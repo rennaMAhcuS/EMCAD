{
 "cells": [
  {
   "metadata": {
    "ExecuteTime": {
     "end_time": "2025-04-30T06:08:23.183733Z",
     "start_time": "2025-04-30T06:08:18.625830Z"
    }
   },
   "cell_type": "code",
   "source": [
    "import os\n",
    "\n",
    "import matplotlib.pyplot as plt\n",
    "import numpy as np\n",
    "import torch\n",
    "from PIL import Image\n",
    "from sklearn.metrics import jaccard_score, f1_score\n",
    "from sklearn.model_selection import train_test_split\n",
    "from torch import nn\n",
    "from torch.utils.data import DataLoader\n",
    "\n",
    "from EMCAD import MySegmentationDataset, PVTEMCAD\n",
    "\n",
    "# Single GPU\n",
    "device = torch.device('cuda:3')  # Using GPU 3\n",
    "\n",
    "# # Multi GPU\n",
    "# device = torch.device('cuda' if torch.cuda.is_available() else 'cpu')\n",
    "# device_ids = list(range(torch.cuda.device_count()))"
   ],
   "id": "2d6f7e7dd39e115b",
   "outputs": [],
   "execution_count": 1
  },
  {
   "metadata": {},
   "cell_type": "markdown",
   "source": [
    "## CVC-ClinicDB\n",
    "\n",
    "### Augmentation"
   ],
   "id": "882c219e5f0dc173"
  },
  {
   "metadata": {
    "ExecuteTime": {
     "end_time": "2025-04-30T06:08:26.936880Z",
     "start_time": "2025-04-30T06:08:23.328747Z"
    }
   },
   "cell_type": "code",
   "source": [
    "# Get all image and mask paths\n",
    "image_dir = 'datasets/CVC-ClinicDB/Original'\n",
    "mask_dir = 'datasets/CVC-ClinicDB/Ground Truth'\n",
    "\n",
    "image_paths = sorted([os.path.join(image_dir, f) for f in os.listdir(image_dir) if f.endswith('.png')])\n",
    "mask_paths = sorted([os.path.join(mask_dir, f) for f in os.listdir(mask_dir)])\n",
    "\n",
    "all_images = [Image.open(p).convert('RGB') for p in image_paths]\n",
    "all_masks = [Image.open(p).convert('L') for p in mask_paths]\n",
    "\n",
    "# Split into train and validation sets\n",
    "train_images, val_images, train_masks, val_masks = train_test_split(\n",
    "    all_images, all_masks, test_size=0.2, random_state=42\n",
    ")\n",
    "\n",
    "# Create DataLoaders\n",
    "train_loader = DataLoader(MySegmentationDataset(train_images, train_masks), batch_size=8, shuffle=True)\n",
    "val_loader = DataLoader(MySegmentationDataset(val_images, val_masks), batch_size=8)"
   ],
   "id": "b9f52883233e67fd",
   "outputs": [],
   "execution_count": 3
  },
  {
   "metadata": {},
   "cell_type": "markdown",
   "source": "### Using Dice Loss",
   "id": "986fc86420b05ae5"
  },
  {
   "metadata": {
    "ExecuteTime": {
     "end_time": "2025-04-30T07:11:52.474066Z",
     "start_time": "2025-04-30T07:05:54.301756Z"
    }
   },
   "cell_type": "code",
   "source": [
    "from torch.nn import functional\n",
    "\n",
    "# Single GPU\n",
    "model_dice = PVTEMCAD().to(device)\n",
    "\n",
    "\n",
    "# # Multi GPU\n",
    "# model = nn.DataParallel(PVTEMCAD().to(device), device_ids=device_ids)\n",
    "\n",
    "\n",
    "def dice_loss(predictions, target, smooth=1e-6):\n",
    "    probs = torch.sigmoid(predictions)\n",
    "    target_unsqueezed = target\n",
    "    if probs.shape != target.shape:\n",
    "        target_unsqueezed = target.unsqueeze(1)\n",
    "    probs = probs.view(-1)\n",
    "    target_unsqueezed = target_unsqueezed.view(-1)\n",
    "    intersection = (probs * target_unsqueezed).sum()\n",
    "\n",
    "    bce = nn.BCEWithLogitsLoss(pos_weight=torch.tensor([5.0], device=device))\n",
    "\n",
    "    return 0.7 * (1 - (2. * intersection + smooth) / (probs.sum() + target.sum() + smooth)) + 0.3 * bce(predictions,\n",
    "                                                                                                        target)\n",
    "\n",
    "\n",
    "optimizer_dice = torch.optim.AdamW(model_dice.parameters(), lr=5e-5)\n",
    "epochs = 50\n",
    "for epoch in range(epochs):\n",
    "    epoch_loss = 0\n",
    "    num_batches = 0\n",
    "    model_dice.train()\n",
    "    for images, masks in train_loader:\n",
    "        images, masks = images.to(device), masks.to(device)\n",
    "        output = model_dice(images)\n",
    "        output = functional.interpolate(output, size=masks.shape[2:], mode='bilinear', align_corners=False)\n",
    "\n",
    "        loss = dice_loss(output, masks)\n",
    "        epoch_loss += loss.item()\n",
    "        num_batches += 1\n",
    "        optimizer_dice.zero_grad()\n",
    "        loss.backward()\n",
    "        optimizer_dice.step()\n",
    "\n",
    "    print(f\"Epoch {epoch + 1}: Avg Loss = {epoch_loss / num_batches:.4f}\")"
   ],
   "id": "1f1c4ff94b35cda2",
   "outputs": [
    {
     "name": "stdout",
     "output_type": "stream",
     "text": [
      "Epoch 1: Avg Loss = 0.6410\n",
      "Epoch 2: Avg Loss = 0.4737\n",
      "Epoch 3: Avg Loss = 0.3513\n",
      "Epoch 4: Avg Loss = 0.2587\n",
      "Epoch 5: Avg Loss = 0.1915\n",
      "Epoch 6: Avg Loss = 0.1561\n",
      "Epoch 7: Avg Loss = 0.1333\n",
      "Epoch 8: Avg Loss = 0.1071\n",
      "Epoch 9: Avg Loss = 0.0816\n",
      "Epoch 10: Avg Loss = 0.0735\n",
      "Epoch 11: Avg Loss = 0.0618\n",
      "Epoch 12: Avg Loss = 0.0574\n",
      "Epoch 13: Avg Loss = 0.0456\n",
      "Epoch 14: Avg Loss = 0.0406\n",
      "Epoch 15: Avg Loss = 0.0404\n",
      "Epoch 16: Avg Loss = 0.0350\n",
      "Epoch 17: Avg Loss = 0.0353\n",
      "Epoch 18: Avg Loss = 0.0328\n",
      "Epoch 19: Avg Loss = 0.0312\n",
      "Epoch 20: Avg Loss = 0.0293\n",
      "Epoch 21: Avg Loss = 0.0287\n",
      "Epoch 22: Avg Loss = 0.0253\n",
      "Epoch 23: Avg Loss = 0.0252\n",
      "Epoch 24: Avg Loss = 0.0265\n",
      "Epoch 25: Avg Loss = 0.0246\n",
      "Epoch 26: Avg Loss = 0.0229\n",
      "Epoch 27: Avg Loss = 0.0216\n",
      "Epoch 28: Avg Loss = 0.0255\n",
      "Epoch 29: Avg Loss = 0.0227\n",
      "Epoch 30: Avg Loss = 0.0197\n",
      "Epoch 31: Avg Loss = 0.0197\n",
      "Epoch 32: Avg Loss = 0.0211\n",
      "Epoch 33: Avg Loss = 0.0237\n",
      "Epoch 34: Avg Loss = 0.0213\n",
      "Epoch 35: Avg Loss = 0.0225\n",
      "Epoch 36: Avg Loss = 0.0286\n",
      "Epoch 37: Avg Loss = 0.0212\n",
      "Epoch 38: Avg Loss = 0.0180\n",
      "Epoch 39: Avg Loss = 0.0192\n",
      "Epoch 40: Avg Loss = 0.0163\n",
      "Epoch 41: Avg Loss = 0.0168\n",
      "Epoch 42: Avg Loss = 0.0188\n",
      "Epoch 43: Avg Loss = 0.0166\n",
      "Epoch 44: Avg Loss = 0.0156\n",
      "Epoch 45: Avg Loss = 0.0149\n",
      "Epoch 46: Avg Loss = 0.0143\n",
      "Epoch 47: Avg Loss = 0.0222\n",
      "Epoch 48: Avg Loss = 0.0214\n",
      "Epoch 49: Avg Loss = 0.0176\n",
      "Epoch 50: Avg Loss = 0.0162\n"
     ]
    }
   ],
   "execution_count": 17
  },
  {
   "metadata": {},
   "cell_type": "markdown",
   "source": "### Using Unifed Focal Loss",
   "id": "20d6db9f77cbec7e"
  },
  {
   "metadata": {
    "ExecuteTime": {
     "end_time": "2025-04-30T07:17:47.537768Z",
     "start_time": "2025-04-30T07:11:52.574247Z"
    }
   },
   "cell_type": "code",
   "source": [
    "def unified_focal_loss(logits, target, smooth=1e-6, gamma=2.0):\n",
    "    if logits.shape != target.shape:\n",
    "        target = target.unsqueeze(1)\n",
    "\n",
    "    logits = logits.view(-1)\n",
    "    target = target.view(-1)\n",
    "\n",
    "    probs = torch.sigmoid(logits)\n",
    "    intersection = (probs * target).sum()\n",
    "    uni = (2. * intersection + smooth) / (probs.sum() + target.sum() + smooth)\n",
    "\n",
    "    bce_logits = nn.BCEWithLogitsLoss(reduction='none')(logits, target)\n",
    "    focal = ((1 - torch.exp(-bce_logits)) ** gamma) * bce_logits\n",
    "    focal = focal.mean()\n",
    "\n",
    "    return 0.5 * (1 - uni) + 0.5 * focal\n",
    "\n",
    "\n",
    "# Single GPU\n",
    "model_unified = PVTEMCAD().to(device)\n",
    "\n",
    "# # Multi GPU\n",
    "# model_unified = nn.DataParallel(PVTEMCAD().to(device), device_ids=device_ids)\n",
    "\n",
    "optimizer_unified = torch.optim.AdamW(model_unified.parameters(), lr=5e-5)\n",
    "epochs = 50\n",
    "for epoch in range(epochs):\n",
    "    epoch_loss = 0\n",
    "    num_batches = 0\n",
    "    model_unified.train()\n",
    "    for images, masks in train_loader:\n",
    "        images, masks = images.to(device), masks.to(device)\n",
    "        output = model_unified(images)\n",
    "        output = functional.interpolate(output, size=masks.shape[2:], mode='bilinear', align_corners=False)\n",
    "\n",
    "        # loss = criterion(output, masks)\n",
    "        loss = unified_focal_loss(output, masks)\n",
    "        epoch_loss += loss.item()\n",
    "        num_batches += 1\n",
    "        optimizer_unified.zero_grad()\n",
    "        loss.backward()\n",
    "        optimizer_unified.step()\n",
    "\n",
    "    print(f\"Epoch {epoch + 1}: Avg Loss = {epoch_loss / num_batches:.4f}\")"
   ],
   "id": "e47678ce482a117b",
   "outputs": [
    {
     "name": "stdout",
     "output_type": "stream",
     "text": [
      "Epoch 1: Avg Loss = 0.3679\n",
      "Epoch 2: Avg Loss = 0.2611\n",
      "Epoch 3: Avg Loss = 0.1925\n",
      "Epoch 4: Avg Loss = 0.1380\n",
      "Epoch 5: Avg Loss = 0.0962\n",
      "Epoch 6: Avg Loss = 0.0741\n",
      "Epoch 7: Avg Loss = 0.0614\n",
      "Epoch 8: Avg Loss = 0.0480\n",
      "Epoch 9: Avg Loss = 0.0449\n",
      "Epoch 10: Avg Loss = 0.0361\n",
      "Epoch 11: Avg Loss = 0.0308\n",
      "Epoch 12: Avg Loss = 0.0271\n",
      "Epoch 13: Avg Loss = 0.0240\n",
      "Epoch 14: Avg Loss = 0.0240\n",
      "Epoch 15: Avg Loss = 0.0220\n",
      "Epoch 16: Avg Loss = 0.0213\n",
      "Epoch 17: Avg Loss = 0.0188\n",
      "Epoch 18: Avg Loss = 0.0183\n",
      "Epoch 19: Avg Loss = 0.0196\n",
      "Epoch 20: Avg Loss = 0.0205\n",
      "Epoch 21: Avg Loss = 0.0241\n",
      "Epoch 22: Avg Loss = 0.0191\n",
      "Epoch 23: Avg Loss = 0.0156\n",
      "Epoch 24: Avg Loss = 0.0148\n",
      "Epoch 25: Avg Loss = 0.0138\n",
      "Epoch 26: Avg Loss = 0.0128\n",
      "Epoch 27: Avg Loss = 0.0121\n",
      "Epoch 28: Avg Loss = 0.0124\n",
      "Epoch 29: Avg Loss = 0.0136\n",
      "Epoch 30: Avg Loss = 0.0122\n",
      "Epoch 31: Avg Loss = 0.0121\n",
      "Epoch 32: Avg Loss = 0.0123\n",
      "Epoch 33: Avg Loss = 0.0104\n",
      "Epoch 34: Avg Loss = 0.0098\n",
      "Epoch 35: Avg Loss = 0.0100\n",
      "Epoch 36: Avg Loss = 0.0097\n",
      "Epoch 37: Avg Loss = 0.0095\n",
      "Epoch 38: Avg Loss = 0.0106\n",
      "Epoch 39: Avg Loss = 0.0112\n",
      "Epoch 40: Avg Loss = 0.0103\n",
      "Epoch 41: Avg Loss = 0.0101\n",
      "Epoch 42: Avg Loss = 0.0093\n",
      "Epoch 43: Avg Loss = 0.0087\n",
      "Epoch 44: Avg Loss = 0.0102\n",
      "Epoch 45: Avg Loss = 0.0094\n",
      "Epoch 46: Avg Loss = 0.0088\n",
      "Epoch 47: Avg Loss = 0.0085\n",
      "Epoch 48: Avg Loss = 0.0083\n",
      "Epoch 49: Avg Loss = 0.0081\n",
      "Epoch 50: Avg Loss = 0.0082\n"
     ]
    }
   ],
   "execution_count": 18
  },
  {
   "metadata": {
    "ExecuteTime": {
     "end_time": "2025-04-30T07:26:25.089490Z",
     "start_time": "2025-04-30T07:26:24.743252Z"
    }
   },
   "cell_type": "code",
   "source": [
    "# Get the i-th image's prediction from the validation dataset\n",
    "index = 4\n",
    "image, mask = val_loader.dataset[index]\n",
    "image = image.unsqueeze(0).to(device)\n",
    "\n",
    "model_dice.eval()\n",
    "with torch.no_grad():\n",
    "    output_dice = torch.sigmoid(model_dice(image))\n",
    "    output_dice = functional.interpolate(output_dice, size=(mask.shape[1], mask.shape[2]), mode='nearest')\n",
    "    pred_dice = output_dice.cpu().squeeze().numpy()\n",
    "\n",
    "model_unified.eval()\n",
    "with torch.no_grad():\n",
    "    output_unified = torch.sigmoid(model_unified(image))\n",
    "    output_unified = functional.interpolate(output_unified, size=(mask.shape[1], mask.shape[2]), mode='nearest')\n",
    "    pred_unified = output_unified.cpu().squeeze().numpy()\n",
    "\n",
    "# Visualize properly\n",
    "plt.subplot(1, 4, 1)\n",
    "plt.imshow(image.squeeze().permute(1, 2, 0).cpu())\n",
    "plt.title(\"Input\")\n",
    "\n",
    "plt.subplot(1, 4, 2)\n",
    "plt.imshow(mask.squeeze(), cmap='gray')\n",
    "plt.title(\"Mask\")\n",
    "\n",
    "plt.subplot(1, 4, 3)\n",
    "plt.imshow(pred_dice > 0.5, cmap='gray')\n",
    "plt.title(\"Dice\")\n",
    "\n",
    "plt.subplot(1, 4, 4)\n",
    "plt.imshow(pred_unified > 0.5, cmap='gray')\n",
    "plt.title(\"Unified\")\n",
    "\n",
    "plt.show()"
   ],
   "id": "a1bc15f325194bfe",
   "outputs": [
    {
     "data": {
      "text/plain": [
       "<Figure size 640x480 with 4 Axes>"
      ],
      "image/png": "[encoded data removed]"
     },
     "metadata": {},
     "output_type": "display_data"
    }
   ],
   "execution_count": 32
  },
  {
   "metadata": {
    "ExecuteTime": {
     "end_time": "2025-04-30T07:18:46.723489Z",
     "start_time": "2025-04-30T07:17:47.977779Z"
    }
   },
   "cell_type": "code",
   "source": [
    "all_preds_dice = []\n",
    "all_preds_unified = []\n",
    "all_targets = []\n",
    "\n",
    "with torch.no_grad():\n",
    "    for image, mask in val_loader.dataset:\n",
    "        image = image.unsqueeze(0).to(device)\n",
    "\n",
    "        out_dice = torch.sigmoid(model_dice(image))\n",
    "        out_dice = functional.interpolate(out_dice, size=mask.shape[1:], mode='nearest')\n",
    "        pred_dice = (out_dice.cpu().squeeze().numpy() > 0.5).astype(int).flatten()\n",
    "\n",
    "        out_unified = torch.sigmoid(model_unified(image))\n",
    "        out_unified = functional.interpolate(out_unified, size=mask.shape[1:], mode='nearest')\n",
    "        pred_unified = (out_unified.cpu().squeeze().numpy() > 0.5).astype(int).flatten()\n",
    "\n",
    "        gt = (np.array(mask) > 0.5).astype(np.uint8).flatten()\n",
    "\n",
    "        all_preds_dice.extend(pred_dice)\n",
    "        all_preds_unified.extend(pred_unified)\n",
    "        all_targets.extend(gt)\n",
    "\n",
    "# Compute once over all pixels\n",
    "f1_dice = f1_score(all_targets, all_preds_dice)\n",
    "iou_dice = jaccard_score(all_targets, all_preds_dice)\n",
    "\n",
    "f1_unified = f1_score(all_targets, all_preds_unified)\n",
    "iou_unified = jaccard_score(all_targets, all_preds_unified)\n",
    "\n",
    "print(f\"Dice F1: {f1_dice:.4f}, IoU: {iou_dice:.4f}\")\n",
    "print(f\"Unified F1: {f1_unified:.4f}, IoU: {iou_unified:.4f}\")"
   ],
   "id": "820ee615ee4b8d1b",
   "outputs": [
    {
     "name": "stdout",
     "output_type": "stream",
     "text": [
      "Dice F1: 0.9134, IoU: 0.8406\n",
      "Unified F1: 0.9175, IoU: 0.8476\n"
     ]
    }
   ],
   "execution_count": 20
  },
  {
   "metadata": {
    "ExecuteTime": {
     "end_time": "2025-04-30T06:43:01.529041Z",
     "start_time": "2025-04-30T06:43:01.357863Z"
    }
   },
   "cell_type": "code",
   "source": [
    "from ptflops import get_model_complexity_info\n",
    "\n",
    "with device:\n",
    "    macs_dice, params_dice = get_model_complexity_info(model_dice, input_res=(3, 224, 224), as_strings=True,\n",
    "                                                       print_per_layer_stat=False, verbose=False)\n",
    "print(f\"For dice, FLOPs: {macs_dice}, Params: {params_dice}\")\n",
    "\n",
    "with device:\n",
    "    macs_unified, params_unified = get_model_complexity_info(model_unified, input_res=(3, 224, 224), as_strings=True,\n",
    "                                                             print_per_layer_stat=False, verbose=False)\n",
    "\n",
    "print(f\"For unified, FLOPs: {macs_unified}, Params: {params_unified}\")"
   ],
   "id": "8ae82461c88c688d",
   "outputs": [
    {
     "name": "stdout",
     "output_type": "stream",
     "text": [
      "For dice, FLOPs: 5.28 GMac, Params: 29.13 M\n",
      "For unified, FLOPs: 5.28 GMac, Params: 29.13 M\n"
     ]
    }
   ],
   "execution_count": 16
  }
 ],
 "metadata": {
  "kernelspec": {
   "display_name": "Python 3",
   "language": "python",
   "name": "python3"
  },
  "language_info": {
   "codemirror_mode": {
    "name": "ipython",
    "version": 2
   },
   "file_extension": ".py",
   "mimetype": "text/x-python",
   "name": "python",
   "nbconvert_exporter": "python",
   "pygments_lexer": "ipython2",
   "version": "2.7.6"
  }
 },
 "nbformat": 4,
 "nbformat_minor": 5
}
