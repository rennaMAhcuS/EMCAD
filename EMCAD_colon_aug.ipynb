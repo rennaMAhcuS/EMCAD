{
 "cells": [
  {
   "metadata": {
    "ExecuteTime": {
     "end_time": "2025-04-30T06:37:22.530776Z",
     "start_time": "2025-04-30T06:37:18.023922Z"
    }
   },
   "cell_type": "code",
   "source": [
    "import os\n",
    "\n",
    "import matplotlib.pyplot as plt\n",
    "import numpy as np\n",
    "import torch\n",
    "from PIL import Image\n",
    "from sklearn.metrics import jaccard_score, f1_score\n",
    "from sklearn.model_selection import train_test_split\n",
    "from torch import nn\n",
    "from torch.utils.data import DataLoader\n",
    "from torchvision import transforms\n",
    "\n",
    "from EMCAD import MySegmentationDataset, PVTEMCAD\n",
    "\n",
    "# Single GPU\n",
    "device = torch.device('cuda:3')  # Using GPU 3\n",
    "\n",
    "# # Multi GPU\n",
    "# device = torch.device('cuda' if torch.cuda.is_available() else 'cpu')\n",
    "# device_ids = list(range(torch.cuda.device_count()))"
   ],
   "id": "2d6f7e7dd39e115b",
   "outputs": [],
   "execution_count": 1
  },
  {
   "metadata": {},
   "cell_type": "markdown",
   "source": [
    "## CVC-ClinicDB\n",
    "\n",
    "### Augmentation"
   ],
   "id": "882c219e5f0dc173"
  },
  {
   "metadata": {
    "ExecuteTime": {
     "end_time": "2025-04-30T06:37:22.544241Z",
     "start_time": "2025-04-30T06:37:22.539075Z"
    }
   },
   "cell_type": "code",
   "source": [
    "# Augmentation function\n",
    "def apply_standard_augmentations(image_list, mask_list):\n",
    "    \"\"\"\n",
    "    Apply standard augmentations to a list of PIL images and their corresponding masks.\n",
    "    Returns a list of augmented images and masks.\n",
    "    \"\"\"\n",
    "    aug_imgs = []\n",
    "    aug_masks = []\n",
    "    augmentation = transforms.Compose([\n",
    "        transforms.RandomHorizontalFlip(p=0.5),\n",
    "        transforms.RandomVerticalFlip(p=0.5),\n",
    "        transforms.RandomRotation(degrees=15),\n",
    "    ])\n",
    "    for img, img_mask in zip(image_list, mask_list):\n",
    "        seed = torch.randint(0, 2 ** 32, (1,)).item()\n",
    "        torch.manual_seed(seed)\n",
    "        img_aug = augmentation(img)\n",
    "        torch.manual_seed(seed)\n",
    "        mask_aug = augmentation(img_mask)\n",
    "        aug_imgs.append(img_aug)\n",
    "        aug_masks.append(mask_aug)\n",
    "    return aug_imgs, aug_masks"
   ],
   "id": "d4eee45b55e79b3e",
   "outputs": [],
   "execution_count": 2
  },
  {
   "metadata": {
    "ExecuteTime": {
     "end_time": "2025-04-30T06:37:33.022836Z",
     "start_time": "2025-04-30T06:37:29.253683Z"
    }
   },
   "cell_type": "code",
   "source": [
    "# Get all image and mask paths\n",
    "image_dir = 'datasets/CVC-ClinicDB/Original'\n",
    "mask_dir = 'datasets/CVC-ClinicDB/Ground Truth'\n",
    "\n",
    "image_paths = sorted([os.path.join(image_dir, f) for f in os.listdir(image_dir) if f.endswith('.png')])\n",
    "mask_paths = sorted([os.path.join(mask_dir, f) for f in os.listdir(mask_dir)])\n",
    "\n",
    "all_images = [Image.open(p).convert('RGB') for p in image_paths]\n",
    "all_masks = [Image.open(p).convert('L') for p in mask_paths]\n",
    "\n",
    "augmented_images, augmented_masks = apply_standard_augmentations(all_images, all_masks)\n",
    "\n",
    "# Split into train and validation sets\n",
    "train_images, val_images, train_masks, val_masks = train_test_split(\n",
    "    augmented_images, augmented_masks, test_size=0.2, random_state=42\n",
    ")\n",
    "\n",
    "# Create DataLoaders\n",
    "train_loader = DataLoader(MySegmentationDataset(train_images, train_masks), batch_size=8, shuffle=True)\n",
    "val_loader = DataLoader(MySegmentationDataset(val_images, val_masks), batch_size=8)"
   ],
   "id": "b9f52883233e67fd",
   "outputs": [],
   "execution_count": 3
  },
  {
   "metadata": {},
   "cell_type": "markdown",
   "source": "### Using Dice Loss",
   "id": "986fc86420b05ae5"
  },
  {
   "metadata": {
    "ExecuteTime": {
     "end_time": "2025-04-30T06:38:48.815190Z",
     "start_time": "2025-04-30T06:37:33.052599Z"
    }
   },
   "cell_type": "code",
   "source": [
    "from torch.nn import functional\n",
    "\n",
    "# Single GPU\n",
    "model_dice = PVTEMCAD().to(device)\n",
    "\n",
    "# # Multi GPU\n",
    "# model = nn.DataParallel(PVTEMCAD().to(device), device_ids=device_ids)\n",
    "\n",
    "\n",
    "def dice_loss(predictions, target, smooth=1e-6):\n",
    "    probs = torch.sigmoid(predictions)\n",
    "    target_unsqueezed = target\n",
    "    if probs.shape != target.shape:\n",
    "        target_unsqueezed = target.unsqueeze(1)\n",
    "    probs = probs.view(-1)\n",
    "    target_unsqueezed = target_unsqueezed.view(-1)\n",
    "    intersection = (probs * target_unsqueezed).sum()\n",
    "\n",
    "    bce = nn.BCEWithLogitsLoss(pos_weight=torch.tensor([5.0], device=device))\n",
    "\n",
    "    return 0.7 * (1 - (2. * intersection + smooth) / (probs.sum() + target.sum() + smooth)) + 0.3 * bce(predictions,\n",
    "                                                                                                        target)\n",
    "\n",
    "\n",
    "optimizer_dice = torch.optim.AdamW(model_dice.parameters(), lr=5e-5)\n",
    "epochs = 10\n",
    "for epoch in range(epochs):\n",
    "    epoch_loss = 0\n",
    "    num_batches = 0\n",
    "    model_dice.train()\n",
    "    for images, masks in train_loader:\n",
    "        images, masks = images.to(device), masks.to(device)\n",
    "        output = model_dice(images)\n",
    "        output = functional.interpolate(output, size=masks.shape[2:], mode='bilinear', align_corners=False)\n",
    "\n",
    "        loss = dice_loss(output, masks)\n",
    "        epoch_loss += loss.item()\n",
    "        num_batches += 1\n",
    "        optimizer_dice.zero_grad()\n",
    "        loss.backward()\n",
    "        optimizer_dice.step()\n",
    "\n",
    "    print(f\"Epoch {epoch + 1}: Avg Loss = {epoch_loss / num_batches:.4f}\")"
   ],
   "id": "1f1c4ff94b35cda2",
   "outputs": [
    {
     "name": "stdout",
     "output_type": "stream",
     "text": [
      "Epoch 1: Avg Loss = 0.6946\n",
      "Epoch 2: Avg Loss = 0.5414\n",
      "Epoch 3: Avg Loss = 0.4409\n",
      "Epoch 4: Avg Loss = 0.3513\n",
      "Epoch 5: Avg Loss = 0.2653\n",
      "Epoch 6: Avg Loss = 0.2277\n",
      "Epoch 7: Avg Loss = 0.1840\n",
      "Epoch 8: Avg Loss = 0.1311\n",
      "Epoch 9: Avg Loss = 0.1034\n",
      "Epoch 10: Avg Loss = 0.0855\n"
     ]
    }
   ],
   "execution_count": 4
  },
  {
   "metadata": {},
   "cell_type": "markdown",
   "source": "### Using Unifed Focal Loss",
   "id": "20d6db9f77cbec7e"
  },
  {
   "metadata": {
    "ExecuteTime": {
     "end_time": "2025-04-30T06:39:59.418495Z",
     "start_time": "2025-04-30T06:38:48.889163Z"
    }
   },
   "cell_type": "code",
   "source": [
    "def unified_focal_loss(logits, target, smooth=1e-6, gamma=2.0):\n",
    "    if logits.shape != target.shape:\n",
    "        target = target.unsqueeze(1)\n",
    "\n",
    "    logits = logits.view(-1)\n",
    "    target = target.view(-1)\n",
    "\n",
    "    probs = torch.sigmoid(logits)\n",
    "    intersection = (probs * target).sum()\n",
    "    uni = (2. * intersection + smooth) / (probs.sum() + target.sum() + smooth)\n",
    "\n",
    "    bce_logits = nn.BCEWithLogitsLoss(reduction='none')(logits, target)\n",
    "    focal = ((1 - torch.exp(-bce_logits)) ** gamma) * bce_logits\n",
    "    focal = focal.mean()\n",
    "\n",
    "    return 0.5 * (1 - uni) + 0.5 * focal\n",
    "\n",
    "\n",
    "# Single GPU\n",
    "model_unified = PVTEMCAD().to(device)\n",
    "\n",
    "# # Multi GPU\n",
    "# model_unified = nn.DataParallel(PVTEMCAD().to(device), device_ids=device_ids)\n",
    "\n",
    "optimizer_unified = torch.optim.AdamW(model_unified.parameters(), lr=5e-5)\n",
    "epochs = 10\n",
    "for epoch in range(epochs):\n",
    "    epoch_loss = 0\n",
    "    num_batches = 0\n",
    "    model_unified.train()\n",
    "    for images, masks in train_loader:\n",
    "        images, masks = images.to(device), masks.to(device)\n",
    "        output = model_unified(images)\n",
    "        output = functional.interpolate(output, size=masks.shape[2:], mode='bilinear', align_corners=False)\n",
    "\n",
    "        # loss = criterion(output, masks)\n",
    "        loss = unified_focal_loss(output, masks)\n",
    "        epoch_loss += loss.item()\n",
    "        num_batches += 1\n",
    "        optimizer_unified.zero_grad()\n",
    "        loss.backward()\n",
    "        optimizer_unified.step()\n",
    "\n",
    "    print(f\"Epoch {epoch + 1}: Avg Loss = {epoch_loss / num_batches:.4f}\")"
   ],
   "id": "e47678ce482a117b",
   "outputs": [
    {
     "name": "stdout",
     "output_type": "stream",
     "text": [
      "Epoch 1: Avg Loss = 0.4137\n",
      "Epoch 2: Avg Loss = 0.3207\n",
      "Epoch 3: Avg Loss = 0.2563\n",
      "Epoch 4: Avg Loss = 0.1896\n",
      "Epoch 5: Avg Loss = 0.1415\n",
      "Epoch 6: Avg Loss = 0.1160\n",
      "Epoch 7: Avg Loss = 0.0913\n",
      "Epoch 8: Avg Loss = 0.0782\n",
      "Epoch 9: Avg Loss = 0.0569\n",
      "Epoch 10: Avg Loss = 0.0454\n"
     ]
    }
   ],
   "execution_count": 5
  },
  {
   "metadata": {
    "ExecuteTime": {
     "end_time": "2025-04-30T06:41:02.347418Z",
     "start_time": "2025-04-30T06:41:01.994298Z"
    }
   },
   "cell_type": "code",
   "source": [
    "# Get the i-th image's prediction from the validation dataset\n",
    "index = 16\n",
    "image, mask = val_loader.dataset[index]\n",
    "image = image.unsqueeze(0).to(device)\n",
    "\n",
    "model_dice.eval()\n",
    "with torch.no_grad():\n",
    "    output_dice = torch.sigmoid(model_dice(image))\n",
    "    output_dice = functional.interpolate(output_dice, size=(mask.shape[1], mask.shape[2]), mode='nearest')\n",
    "    pred_dice = output_dice.cpu().squeeze().numpy()\n",
    "\n",
    "model_unified.eval()\n",
    "with torch.no_grad():\n",
    "    output_unified = torch.sigmoid(model_unified(image))\n",
    "    output_unified = functional.interpolate(output_unified, size=(mask.shape[1], mask.shape[2]), mode='nearest')\n",
    "    pred_unified = output_unified.cpu().squeeze().numpy()\n",
    "\n",
    "# Visualize properly\n",
    "plt.subplot(1, 4, 1)\n",
    "plt.imshow(image.squeeze().permute(1, 2, 0).cpu())\n",
    "plt.title(\"Input\")\n",
    "\n",
    "plt.subplot(1, 4, 2)\n",
    "plt.imshow(mask.squeeze(), cmap='gray')\n",
    "plt.title(\"Mask\")\n",
    "\n",
    "plt.subplot(1, 4, 3)\n",
    "plt.imshow(pred_dice > 0.5, cmap='gray')\n",
    "plt.title(\"Dice\")\n",
    "\n",
    "plt.subplot(1, 4, 4)\n",
    "plt.imshow(pred_unified > 0.5, cmap='gray')\n",
    "plt.title(\"Unified\")\n",
    "\n",
    "plt.show()"
   ],
   "id": "a1bc15f325194bfe",
   "outputs": [
    {
     "data": {
      "text/plain": [
       "<Figure size 640x480 with 4 Axes>"
      ],
      "image/png": "[encoded data removed]"
     },
     "metadata": {},
     "output_type": "display_data"
    }
   ],
   "execution_count": 9
  },
  {
   "metadata": {
    "ExecuteTime": {
     "end_time": "2025-04-30T06:41:01.133051Z",
     "start_time": "2025-04-30T06:39:59.880389Z"
    }
   },
   "cell_type": "code",
   "source": [
    "all_preds_dice = []\n",
    "all_preds_unified = []\n",
    "all_targets = []\n",
    "\n",
    "with torch.no_grad():\n",
    "    for image, mask in val_loader.dataset:\n",
    "        image = image.unsqueeze(0).to(device)\n",
    "\n",
    "        out_dice = torch.sigmoid(model_dice(image))\n",
    "        out_dice = functional.interpolate(out_dice, size=mask.shape[1:], mode='nearest')\n",
    "        pred_dice = (out_dice.cpu().squeeze().numpy() > 0.5).astype(int).flatten()\n",
    "\n",
    "        out_unified = torch.sigmoid(model_unified(image))\n",
    "        out_unified = functional.interpolate(out_unified, size=mask.shape[1:], mode='nearest')\n",
    "        pred_unified = (out_unified.cpu().squeeze().numpy() > 0.5).astype(int).flatten()\n",
    "\n",
    "        gt = (np.array(mask) > 0.5).astype(np.uint8).flatten()\n",
    "\n",
    "        all_preds_dice.extend(pred_dice)\n",
    "        all_preds_unified.extend(pred_unified)\n",
    "        all_targets.extend(gt)\n",
    "\n",
    "# Compute once over all pixels\n",
    "f1_dice = f1_score(all_targets, all_preds_dice)\n",
    "iou_dice = jaccard_score(all_targets, all_preds_dice)\n",
    "\n",
    "f1_unified = f1_score(all_targets, all_preds_unified)\n",
    "iou_unified = jaccard_score(all_targets, all_preds_unified)\n",
    "\n",
    "print(f\"Dice F1: {f1_dice:.4f}, IoU: {iou_dice:.4f}\")\n",
    "print(f\"Unified F1: {f1_unified:.4f}, IoU: {iou_unified:.4f}\")"
   ],
   "id": "820ee615ee4b8d1b",
   "outputs": [
    {
     "name": "stdout",
     "output_type": "stream",
     "text": [
      "Dice F1: 0.9090, IoU: 0.8332\n",
      "Unified F1: 0.9151, IoU: 0.8435\n"
     ]
    }
   ],
   "execution_count": 7
  },
  {
   "metadata": {
    "ExecuteTime": {
     "end_time": "2025-04-30T06:42:05.384350Z",
     "start_time": "2025-04-30T06:42:05.224356Z"
    }
   },
   "cell_type": "code",
   "source": [
    "from ptflops import get_model_complexity_info\n",
    "\n",
    "with device:\n",
    "    macs_dice, params_dice = get_model_complexity_info(model_dice, input_res=(3, 224, 224), as_strings=True,\n",
    "                                             print_per_layer_stat=False, verbose=False)\n",
    "print(f\"For dice, FLOPs: {macs_dice}, Params: {params_dice}\")\n",
    "\n",
    "with device:\n",
    "    macs_unified, params_unified = get_model_complexity_info(model_unified, input_res=(3, 224, 224), as_strings=True,\n",
    "                                             print_per_layer_stat=False, verbose=False)\n",
    "\n",
    "print(f\"For unified, FLOPs: {macs_unified}, Params: {params_unified}\")"
   ],
   "id": "8ae82461c88c688d",
   "outputs": [
    {
     "name": "stdout",
     "output_type": "stream",
     "text": [
      "For dice, FLOPs: 5.28 GMac, Params: 29.13 M\n",
      "For unified, FLOPs: 5.28 GMac, Params: 29.13 M\n"
     ]
    }
   ],
   "execution_count": 10
  }
 ],
 "metadata": {
  "kernelspec": {
   "display_name": "Python 3",
   "language": "python",
   "name": "python3"
  },
  "language_info": {
   "codemirror_mode": {
    "name": "ipython",
    "version": 2
   },
   "file_extension": ".py",
   "mimetype": "text/x-python",
   "name": "python",
   "nbconvert_exporter": "python",
   "pygments_lexer": "ipython2",
   "version": "2.7.6"
  }
 },
 "nbformat": 4,
 "nbformat_minor": 5
}
